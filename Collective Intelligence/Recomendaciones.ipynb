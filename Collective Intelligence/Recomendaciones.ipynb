{
 "cells": [
  {
   "cell_type": "code",
   "execution_count": 34,
   "metadata": {
    "collapsed": true
   },
   "outputs": [],
   "source": [
    "import numpy as np"
   ]
  },
  {
   "cell_type": "code",
   "execution_count": 35,
   "metadata": {
    "collapsed": false
   },
   "outputs": [],
   "source": [
    "# A dictionary of movie critics and their ratings of a small\n",
    "# set of movies\n",
    "critics={'Lisa Rose': {'Lady in the Water': 2.5, 'Snakes on a Plane': 3.5,\n",
    " 'Just My Luck': 3.0, 'Superman Returns': 3.5, 'You, Me and Dupree': 2.5,\n",
    " 'The Night Listener': 3.0},\n",
    "'Gene Seymour': {'Lady in the Water': 3.0, 'Snakes on a Plane': 3.5,\n",
    " 'Just My Luck': 1.5, 'Superman Returns': 5.0, 'The Night Listener': 3.0,\n",
    " 'You, Me and Dupree': 3.5},\n",
    "'Michael Phillips': {'Lady in the Water': 2.5, 'Snakes on a Plane': 3.0,\n",
    " 'Superman Returns': 3.5, 'The Night Listener': 4.0},\n",
    "'Claudia Puig': {'Snakes on a Plane': 3.5, 'Just My Luck': 3.0,\n",
    " 'The Night Listener': 4.5, 'Superman Returns': 4.0,\n",
    " 'You, Me and Dupree': 2.5},\n",
    "'Mick LaSalle': {'Lady in the Water': 3.0, 'Snakes on a Plane': 4.0,\n",
    " 'Just My Luck': 2.0, 'Superman Returns': 3.0, 'The Night Listener': 3.0,\n",
    " 'You, Me and Dupree': 2.0},\n",
    "'Jack Matthews': {'Lady in the Water': 3.0, 'Snakes on a Plane': 4.0,\n",
    " 'The Night Listener': 3.0, 'Superman Returns': 5.0, 'You, Me and Dupree': 3.5},\n",
    "'Toby': {'Snakes on a Plane':4.5,'You, Me and Dupree':1.0,'Superman Returns':4.0}}\n",
    "\n"
   ]
  },
  {
   "cell_type": "code",
   "execution_count": 36,
   "metadata": {
    "collapsed": false,
    "scrolled": true
   },
   "outputs": [
    {
     "name": "stdout",
     "output_type": "stream",
     "text": [
      "2.5\n",
      "{'Snakes on a Plane': 4.5, 'Superman Returns': 4.0, 'You, Me and Dupree': 1.0}\n"
     ]
    }
   ],
   "source": [
    "print critics['Lisa Rose']['Lady in the Water']\n",
    "\n",
    "critics['Toby']['Snakes on a Plane']=4.5\n",
    "print critics['Toby']"
   ]
  },
  {
   "cell_type": "code",
   "execution_count": 37,
   "metadata": {
    "collapsed": false
   },
   "outputs": [
    {
     "name": "stdout",
     "output_type": "stream",
     "text": [
      "[1, 2, 3, 4]\n"
     ]
    }
   ],
   "source": [
    "print ([1] + [2, 3, 4])"
   ]
  },
  {
   "cell_type": "code",
   "execution_count": 38,
   "metadata": {
    "collapsed": false
   },
   "outputs": [],
   "source": [
    "## Devuelve un arreglo  con  el numero de Peliculas en comun y la diferencia en scores.\n",
    "def moviesInCommon(target, someUser): \n",
    "    count = 0\n",
    "    scoreDifferentials = [0]\n",
    "    for key in target:\n",
    "        if key in someUser:\n",
    "            count+=1\n",
    "            scoreDifferentials += ([target[key] - someUser[key]])\n",
    "    scoreDifferentials[0] = count\n",
    "    return scoreDifferentials"
   ]
  },
  {
   "cell_type": "code",
   "execution_count": 39,
   "metadata": {
    "collapsed": false
   },
   "outputs": [
    {
     "data": {
      "text/plain": [
       "[3, 1.0, 0.5, -1.5]"
      ]
     },
     "execution_count": 39,
     "metadata": {},
     "output_type": "execute_result"
    }
   ],
   "source": [
    "moviesInCommon(critics[\"Toby\"], critics['Lisa Rose'])"
   ]
  },
  {
   "cell_type": "code",
   "execution_count": 74,
   "metadata": {
    "collapsed": false
   },
   "outputs": [],
   "source": [
    "def getAllComparable(target, dictionary, threshold):\n",
    "    comparable = []\n",
    "    for key in dictionary:\n",
    "        #print target\n",
    "        #print key\n",
    "        #print moviesInCommon(target, dictionary[key])\n",
    "        if(moviesInCommon(dictionary[target], dictionary[key])[0] > threshold):\n",
    "            if(target != key):\n",
    "                comparable += [[key]+moviesInCommon(dictionary[target], dictionary[key])]\n",
    "    \n",
    "    return comparable"
   ]
  },
  {
   "cell_type": "code",
   "execution_count": null,
   "metadata": {
    "collapsed": true
   },
   "outputs": [],
   "source": []
  },
  {
   "cell_type": "code",
   "execution_count": 41,
   "metadata": {
    "collapsed": false
   },
   "outputs": [
    {
     "name": "stdout",
     "output_type": "stream",
     "text": [
      "[3, 1.0, 0.5, -1.5]\n"
     ]
    }
   ],
   "source": [
    "common = moviesInCommon(critics['Toby'], critics['Lisa Rose'])\n",
    "print common"
   ]
  },
  {
   "cell_type": "code",
   "execution_count": 75,
   "metadata": {
    "collapsed": false
   },
   "outputs": [
    {
     "name": "stdout",
     "output_type": "stream",
     "text": [
      "[['Jack Matthews', 3, 0.5, -1.0, -2.5], ['Mick LaSalle', 3, 0.5, 1.0, -1.0], ['Claudia Puig', 3, 1.0, 0.0, -1.5], ['Lisa Rose', 3, 1.0, 0.5, -1.5], ['Gene Seymour', 3, 1.0, -1.0, -2.5], ['Michael Phillips', 2, 1.5, 0.5]]\n"
     ]
    }
   ],
   "source": [
    "print getAllComparable('Toby', critics, 0)"
   ]
  },
  {
   "cell_type": "code",
   "execution_count": null,
   "metadata": {
    "collapsed": true
   },
   "outputs": [],
   "source": [
    "def distanciaEuclidiana(target, dictionary, threshold):\n",
    "    compArray = getAllComparable(target, dictionary, threshold)\n",
    "    for i in range (0, compArray.length):\n",
    "        distCalc\n",
    "    "
   ]
  },
  {
   "cell_type": "code",
   "execution_count": 77,
   "metadata": {
    "collapsed": true
   },
   "outputs": [],
   "source": [
    "def distCalc(comparison):\n",
    "    result = 0;\n",
    "    for i in range (2, comparison[1]+1):\n",
    "        result += pow(comparison[i], 2)\n",
    "    result /= comparison[1]\n",
    "    result = np.sqrt(result)\n",
    "    return [comparison[0]] + [result]"
   ]
  },
  {
   "cell_type": "code",
   "execution_count": null,
   "metadata": {
    "collapsed": true
   },
   "outputs": [],
   "source": []
  }
 ],
 "metadata": {
  "kernelspec": {
   "display_name": "Python 2",
   "language": "python",
   "name": "python2"
  },
  "language_info": {
   "codemirror_mode": {
    "name": "ipython",
    "version": 2
   },
   "file_extension": ".py",
   "mimetype": "text/x-python",
   "name": "python",
   "nbconvert_exporter": "python",
   "pygments_lexer": "ipython2",
   "version": "2.7.10"
  }
 },
 "nbformat": 4,
 "nbformat_minor": 0
}
