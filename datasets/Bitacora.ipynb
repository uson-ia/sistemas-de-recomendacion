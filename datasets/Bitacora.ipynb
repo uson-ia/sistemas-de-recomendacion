{
 "cells": [
  {
   "cell_type": "markdown",
   "metadata": {},
   "source": [
    "# Bitácora de exploración\n",
    "## Collective Intelligence - Making Recommendations"
   ]
  },
  {
   "cell_type": "markdown",
   "metadata": {},
   "source": [
    "### Filtros colaborativos\n",
    "\n",
    "Se desarrollará un sistema de recomendación basado coincidencias de un usuario con otros.\n",
    "\n",
    "Un algorítmo de *filtrado colaborativo* usualmente funciona buscando en un grupo grande de personas y encontrando un conjunto mas pequeño con gustos similares a los de cierto usuario.\n",
    "\n",
    "En general, filtrado colaborativo es el proceso de filtrado de información o patrones usando técnicas que involucran la colaboración entre múltiples agentes, puntos de vista, fuentes de datos, etc."
   ]
  },
  {
   "cell_type": "markdown",
   "metadata": {},
   "source": [
    "### Recolectando preferencias\n",
    "\n",
    "Lo primero que se tiene que considerar es una representación que nos permita hablar de **personas** y sus **gustos** sobre determinados **ítems**. En este caso las personas serán críticos de películas, los gustos se representarán como las calificaciones que le asignan a películas, las cuales serán los ítems.\n",
    "\n",
    "La representación con la que se trabajará será la de diccionarios anidados, si `d[a,b]` es un diccionario que relaciona `a` con `b`, la estructura que utilizaremos tiene la forma:\n",
    "\n",
    "```\n",
    "d[Nombre de persona, d[Nombre de película, Calificación]\n",
    "```\n",
    "\n",
    "Tanto el nombre del crítico como el nombre de la película son cadenas de caracteres; la calificación se representa como un valor numérico entre 1 y 5"
   ]
  },
  {
   "cell_type": "code",
   "execution_count": 46,
   "metadata": {
    "collapsed": true
   },
   "outputs": [],
   "source": [
    "# Un diccionario de críticos de cine con sus calificaciones de un\n",
    "# conjunto pequeño de películas\n",
    "critics = {\n",
    "    \"Lisa Rose\" : {\n",
    "        \"Lady in the Water\"  : 2.5,\n",
    "        \"Snakes on a Plane\"  : 3.5,\n",
    "        \"Just My Luck\"       : 3.0,\n",
    "        \"Superman Returns\"   : 3.5,\n",
    "        \"You, Me and Dupree\" : 2.5,\n",
    "        \"The Night Listener\" : 3.0\n",
    "    },\n",
    "    \"Gene Seymour\" : {\n",
    "        \"Lady in the Water\"  : 3.0,\n",
    "        \"Snakes on a Plane\"  : 3.5,\n",
    "        \"Just My Luck\"       : 1.5,\n",
    "        \"Superman Returns\"   : 5.0,\n",
    "        \"The Night Listener\" : 3.0,\n",
    "        \"You, Me and Dupree\" : 3.5\n",
    "    },\n",
    "    \"Michael Phillips\" : {\n",
    "        \"Lady in the Water\"  : 2.5,\n",
    "        \"Snakes on a Plane\"  : 3.0,\n",
    "        \"Superman Returns\"   : 3.5,\n",
    "        \"The Night Listener\" : 4.0\n",
    "    },\n",
    "    \"Claudia Puig\" : {\n",
    "        \"You, Me and Dupree\" : 2.5,\n",
    "        \"Snakes on a Plane\"  : 3.5,\n",
    "        \"Just My Luck\"       : 3.0,\n",
    "        \"Superman Returns\"   : 4.0,\n",
    "        \"The Night Listener\" : 4.5\n",
    "    },\n",
    "    \"Mick LaSalle\" : {\n",
    "        \"Lady in the Water\"  : 3.0,\n",
    "        \"Snakes on a Plane\"  : 4.0,\n",
    "        \"Just My Luck\"       : 2.0,\n",
    "        \"Superman Returns\"   : 3.0,\n",
    "        \"The Night Listener\" : 3.0,\n",
    "        \"You, Me and Dupree\" : 2.0\n",
    "    },\n",
    "    \"Jack Matthews\" : {\n",
    "        \"Lady in the Water\"  : 3.0,\n",
    "        \"Snakes on a Plane\"  : 4.0,\n",
    "        \"You, Me and Dupree\" : 3.5,\n",
    "        \"Superman Returns\"   : 5.0,\n",
    "        \"The Night Listener\" : 3.0\n",
    "    },\n",
    "    \"Toby\" : {\n",
    "        \"Snakes on a Plane\"  : 4.5,\n",
    "        \"You, Me and Dupree\" : 1.0,\n",
    "        \"Superman Returns\"   : 4.0\n",
    "    },\n",
    "    \"Lolo\" : {\n",
    "        \"Lili\" : 1,\n",
    "        \"Lala\" : 2\n",
    "    },\n",
    "    \"Coco\" : {\n",
    "        \"Cici\" : 5.0,\n",
    "        \"Caca\" : 2.4\n",
    "    },\n",
    "    \"Bobo\" : {\n",
    "        \"Lili\" : 3,\n",
    "        \"Lala\" : 4\n",
    "    },\n",
    "    \"Gerardo\" : {\n",
    "        \"Lady in the Water\"  : 3.1,\n",
    "        \"You, Me and Dupree\" : 3.0,\n",
    "        \"Superman Returns\"   : 2.9\n",
    "    },\n",
    "    \"Christian\" : {\n",
    "        \"Lady in the Water\"  : 2.9,\n",
    "        \"You, Me and Dupree\" : 3.0,\n",
    "        \"Superman Returns\"   : 3.1\n",
    "    },\n",
    "    \"Luque\" : {\n",
    "        \"Lady in the Water\"  : 1.0\n",
    "    },\n",
    "    \"Moises\" : {\n",
    "        \"Lady in the Water\"  : 3.5,\n",
    "        \"Superman Returns\"   : 4.1\n",
    "    },\n",
    "}"
   ]
  },
  {
   "cell_type": "markdown",
   "metadata": {},
   "source": [
    "### Encontrando usuarios similares\n",
    "\n",
    "Para determinar que tan similar son los gustos de dos personas se pueden utilizar varias métricas, las cuales llamamos *puntuaciones de similitud*\n",
    "\n",
    "En este ejercicio se implementarán dos: la *distancia Euclideana* y la *correlación de Pearson*"
   ]
  },
  {
   "cell_type": "markdown",
   "metadata": {},
   "source": [
    "#### Puntuación de la distancia Euclideana\n",
    "\n",
    "Considerando $n$ películas calificadas por una cantidad de críticos, podemos encontrar que tan similar son dos personas si tomamos un espacio $n$-dimensional en donde un punto es un crítico y sus coordenadas se determinan por la calificación que le asignó dicho crítico a las películas.\n",
    "\n",
    "La distancia Euclideana en este caso será calculada entre dos críticos considerando las películas que calificaron en común.\n",
    "\n",
    "$$f(c^{(a)}, c^{(b)}) = \\sqrt{(c^{(a)}_1 - c^{(b)}_1)^2 + \\dots (c^{(a)}_n - c^{(b)}_n)^2}$$\n",
    "\n",
    "donde $c^{(r)}_{i}$ es la calificación que le asignó el crítico $r$ a la película $i$"
   ]
  },
  {
   "cell_type": "code",
   "execution_count": 2,
   "metadata": {
    "collapsed": true
   },
   "outputs": [],
   "source": [
    "# Obtiene una lista con los ítems en común entre dos usuarios\n",
    "def shared_items(data, user_a, user_b):\n",
    "    return [item for item in data[user_a] if item in data[user_b]]"
   ]
  },
  {
   "cell_type": "code",
   "execution_count": 3,
   "metadata": {
    "collapsed": false
   },
   "outputs": [
    {
     "data": {
      "text/plain": [
       "['Lady in the Water',\n",
       " 'Snakes on a Plane',\n",
       " 'Just My Luck',\n",
       " 'Superman Returns',\n",
       " 'You, Me and Dupree',\n",
       " 'The Night Listener']"
      ]
     },
     "execution_count": 3,
     "metadata": {},
     "output_type": "execute_result"
    }
   ],
   "source": [
    "shared_items(critics, \"Gene Seymour\", \"Lisa Rose\")"
   ]
  },
  {
   "cell_type": "code",
   "execution_count": 8,
   "metadata": {
    "collapsed": true
   },
   "outputs": [],
   "source": [
    "from math import sqrt"
   ]
  },
  {
   "cell_type": "code",
   "execution_count": 9,
   "metadata": {
    "collapsed": false
   },
   "outputs": [],
   "source": [
    "# Calcula la distancia euclideana entre dos usuarios en la base de datos\n",
    "def euclidean_distance(data, user_a, user_b):\n",
    "    return sqrt(sum([pow(data[user_a][item] - data[user_b][item], 2)\n",
    "                     for item in shared_items(data, user_a, user_b)]))"
   ]
  },
  {
   "cell_type": "code",
   "execution_count": 10,
   "metadata": {
    "collapsed": false
   },
   "outputs": [
    {
     "data": {
      "text/plain": [
       "2.3979157616563596"
      ]
     },
     "execution_count": 10,
     "metadata": {},
     "output_type": "execute_result"
    }
   ],
   "source": [
    "euclidean_distance(critics, \"Gene Seymour\", \"Lisa Rose\")"
   ]
  },
  {
   "cell_type": "code",
   "execution_count": 11,
   "metadata": {
    "collapsed": true
   },
   "outputs": [],
   "source": [
    "# Calcula similaridad = 1/(1+distancia)\n",
    "def euclidean_similarity(data, user_a, user_b):\n",
    "    return 1/(1+euclidean_distance(data, user_a, user_b))"
   ]
  },
  {
   "cell_type": "code",
   "execution_count": 12,
   "metadata": {
    "collapsed": false
   },
   "outputs": [
    {
     "data": {
      "text/plain": [
       "0.29429805508554946"
      ]
     },
     "execution_count": 12,
     "metadata": {},
     "output_type": "execute_result"
    }
   ],
   "source": [
    "euclidean_similarity(critics, \"Gene Seymour\", \"Lisa Rose\")"
   ]
  },
  {
   "cell_type": "markdown",
   "metadata": {},
   "source": [
    "#### Puntuación de la correlación de Pearson\n",
    "\n",
    "Una manera mas sofisticada para determinar la similaridad entre los intereses de dos personas es usando el coeficiente de correlación de Pearson.\n",
    "\n",
    "Considerando a dos críticos $a$ y $b$ podemos encontrar que tan similares son sus gustos si tomamos las películas que calificaron en común y las colocamos en un espacio bidimensional, en donde cada punto es $(c^{(a)}_i, c^{(b)}_i)$. Donde $c^{(r)}_i$ es la calificación que le asignó el crítico $r$ a la película $i$.\n",
    "\n",
    "Se hace una regresión lineal con los puntos para obtener una recta con la que podemos determinar que tan cerca o lejos están las calificaciones de los críticos de ella."
   ]
  },
  {
   "cell_type": "code",
   "execution_count": 24,
   "metadata": {
    "collapsed": true
   },
   "outputs": [],
   "source": [
    "def critics_ratings(data, user_a, user_b):\n",
    "    shared = shared_items(data, user_a, user_b)\n",
    "    c_a = [data[user_a][item] for item in shared]\n",
    "    c_b = [data[user_b][item] for item in shared]\n",
    "    n = len(shared)\n",
    "    return c_a, c_b, n"
   ]
  },
  {
   "cell_type": "code",
   "execution_count": 25,
   "metadata": {
    "collapsed": false
   },
   "outputs": [
    {
     "name": "stdout",
     "output_type": "stream",
     "text": [
      "c_a =  [3.0, 3.5, 1.5, 5.0, 3.5, 3.0]\n",
      "c_b =  [2.5, 3.5, 3.0, 3.5, 2.5, 3.0]\n",
      "n   =  6\n"
     ]
    }
   ],
   "source": [
    "c_a, c_b, n = critics_ratings(critics, \"Gene Seymour\", \"Lisa Rose\")\n",
    "print \"c_a = \", c_a\n",
    "print \"c_b = \", c_b\n",
    "print \"n   = \", n"
   ]
  },
  {
   "cell_type": "markdown",
   "metadata": {},
   "source": [
    "Hay dos casos extremos que debemos considerar, primero el caso en el que dos críticos no tienen películas calificadas en común y luego el caso bizarro en el que la similaridad se indetermine (considere el caso de la similaridad de Pearson con \"Luque\" y \"Moises\".\n",
    "\n",
    "En ambos casos se regresa 0 (lo que significa que no hay correlación entre estos dos críticos). Para el caso en el que se indetermina el resultado es por una división por cero, la cual puede ocurrir si se permiten las calificaciones de 0 o si los dos críticos tienen solo una película en común y uno de ellos la calificó con 1, es un caso peculiar que no sé como arreglar, así que lo dejaremos en que no hay correlación en este caso."
   ]
  },
  {
   "cell_type": "code",
   "execution_count": 44,
   "metadata": {
    "collapsed": true
   },
   "outputs": [],
   "source": [
    "def pearson_similarity(data, user_a, user_b):\n",
    "    c_a, c_b, n = critics_ratings(data, user_a, user_b)\n",
    "    if n == 0: return 0\n",
    "    sum_c_a = sum(c_a)\n",
    "    sum_c_b = sum(c_b)\n",
    "    sum_c_a_sq = sum(map(lambda x,y:x*y, c_a, c_a))\n",
    "    sum_c_b_sq = sum(map(lambda x,y:x*y, c_b, c_b))\n",
    "    sum_c_prod = sum(map(lambda x,y:x*y, c_a, c_b))\n",
    "    numerator = sum_c_prod - (sum_c_a*sum_c_b/float(n))\n",
    "    denominator = sqrt((sum_c_a_sq-pow(sum_c_a,2)/float(n))*\n",
    "                       (sum_c_b_sq-pow(sum_c_b,2)/float(n)))\n",
    "    if denominator == 0: return 0\n",
    "    return numerator/denominator"
   ]
  },
  {
   "cell_type": "code",
   "execution_count": 47,
   "metadata": {
    "collapsed": false
   },
   "outputs": [
    {
     "data": {
      "text/plain": [
       "1.0"
      ]
     },
     "execution_count": 47,
     "metadata": {},
     "output_type": "execute_result"
    }
   ],
   "source": [
    "pearson_similarity(critics, \"Lolo\", \"Bobo\")"
   ]
  },
  {
   "cell_type": "markdown",
   "metadata": {},
   "source": [
    "#### Ordenando usuarios\n",
    "\n",
    "Se implementa una función que a partir de un usuario, regresa una lista ordenada de otros usuarios (de mas similares a menos similares)."
   ]
  },
  {
   "cell_type": "code",
   "execution_count": 69,
   "metadata": {
    "collapsed": true
   },
   "outputs": [],
   "source": [
    "def top_matches(data, user, n=5, similarity=pearson_similarity):\n",
    "    return sorted([(similarity(data, user, other), other)\n",
    "                   for other in data if other != user])[-1:-n-1:-1]"
   ]
  },
  {
   "cell_type": "code",
   "execution_count": 71,
   "metadata": {
    "collapsed": false
   },
   "outputs": [
    {
     "data": {
      "text/plain": [
       "[(0.9999999999997465, 'Christian'),\n",
       " (0.9912407071619299, 'Lisa Rose'),\n",
       " (0.9244734516419049, 'Mick LaSalle')]"
      ]
     },
     "execution_count": 71,
     "metadata": {},
     "output_type": "execute_result"
    }
   ],
   "source": [
    "top_matches(critics, \"Toby\", n=3)"
   ]
  },
  {
   "cell_type": "markdown",
   "metadata": {},
   "source": [
    "### Recomendando ítems"
   ]
  },
  {
   "cell_type": "markdown",
   "metadata": {},
   "source": [
    "### Coincidiendo productos"
   ]
  },
  {
   "cell_type": "markdown",
   "metadata": {},
   "source": [
    "### Construyendo un recomendador de link de del.icio.us"
   ]
  },
  {
   "cell_type": "markdown",
   "metadata": {},
   "source": [
    "### Filtrado basado en ítems"
   ]
  },
  {
   "cell_type": "markdown",
   "metadata": {},
   "source": [
    "### Usando el conjunto de datos de MovieLens"
   ]
  }
 ],
 "metadata": {
  "kernelspec": {
   "display_name": "Python 2",
   "language": "python",
   "name": "python2"
  },
  "language_info": {
   "codemirror_mode": {
    "name": "ipython",
    "version": 2
   },
   "file_extension": ".py",
   "mimetype": "text/x-python",
   "name": "python",
   "nbconvert_exporter": "python",
   "pygments_lexer": "ipython2",
   "version": "2.7.10"
  }
 },
 "nbformat": 4,
 "nbformat_minor": 0
}
