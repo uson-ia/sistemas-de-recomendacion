{
 "cells": [
  {
   "cell_type": "markdown",
   "metadata": {},
   "source": [
    "# Bitácora de exploración\n",
    "## Collective Intelligence - Making Recommendations"
   ]
  },
  {
   "cell_type": "markdown",
   "metadata": {},
   "source": [
    "### Filtros colaborativos\n",
    "\n",
    "Se desarrollará un sistema de recomendación basado coincidencias de un usuario con otros.\n",
    "\n",
    "Un algorítmo de *filtrado colaborativo* usualmente funciona buscando en un grupo grande de personas y encontrando un conjunto mas pequeño con gustos similares a los de cierto usuario.\n",
    "\n",
    "En general, filtrado colaborativo es el proceso de filtrado de información o patrones usando técnicas que involucran la colaboración entre múltiples agentes, puntos de vista, fuentes de datos, etc."
   ]
  },
  {
   "cell_type": "markdown",
   "metadata": {},
   "source": [
    "### Recolectando preferencias\n",
    "\n",
    "Lo primero que se tiene que considerar es una representación que nos permita hablar de **personas** y sus **gustos** sobre determinados **ítems**. En este caso las personas serán críticos de películas, los gustos se representarán como las calificaciones que le asignan a películas, las cuales serán los ítems.\n",
    "\n",
    "La representación con la que se trabajará será la de diccionarios anidados, si `d[a,b]` es un diccionario que relaciona `a` con `b`, la estructura que utilizaremos tiene la forma:\n",
    "\n",
    "```\n",
    "d[Nombre de persona, d[Nombre de película, Calificación]\n",
    "```\n",
    "\n",
    "Tanto el nombre del crítico como el nombre de la película son cadenas de caracteres; la calificación se representa como un valor numérico entre 1 y 5"
   ]
  },
  {
   "cell_type": "code",
   "execution_count": 17,
   "metadata": {
    "collapsed": true
   },
   "outputs": [],
   "source": [
    "# Un diccionario de críticos de cine con sus calificaciones de un\n",
    "# conjunto pequeño de películas\n",
    "critics = {\n",
    "    \"Lisa Rose\" : {\n",
    "        \"Lady in the Water\"  : 2.5,\n",
    "        \"Snakes on a Plane\"  : 3.5,\n",
    "        \"Just My Luck\"       : 3.0,\n",
    "        \"Superman Returns\"   : 3.5,\n",
    "        \"You, Me and Dupree\" : 2.5,\n",
    "        \"The Night Listener\" : 3.0\n",
    "    },\n",
    "    \"Gene Seymour\" : {\n",
    "        \"Lady in the Water\"  : 3.0,\n",
    "        \"Snakes on a Plane\"  : 3.5,\n",
    "        \"Just My Luck\"       : 1.5,\n",
    "        \"Superman Returns\"   : 5.0,\n",
    "        \"The Night Listener\" : 3.0,\n",
    "        \"You, Me and Dupree\" : 3.5\n",
    "    },\n",
    "    \"Michael Phillips\" : {\n",
    "        \"Lady in the Water\"  : 2.5,\n",
    "        \"Snakes on a Plane\"  : 3.0,\n",
    "        \"Superman Returns\"   : 3.5,\n",
    "        \"The Night Listener\" : 4.0\n",
    "    },\n",
    "    \"Claudia Puig\" : {\n",
    "        \"You, Me and Dupree\" : 2.5,\n",
    "        \"Snakes on a Plane\"  : 3.5,\n",
    "        \"Just My Luck\"       : 3.0,\n",
    "        \"Superman Returns\"   : 4.0,\n",
    "        \"The Night Listener\" : 4.5\n",
    "    },\n",
    "    \"Mick LaSalle\" : {\n",
    "        \"Lady in the Water\"  : 3.0,\n",
    "        \"Snakes on a Plane\"  : 4.0,\n",
    "        \"Just My Luck\"       : 2.0,\n",
    "        \"Superman Returns\"   : 3.0,\n",
    "        \"The Night Listener\" : 3.0,\n",
    "        \"You, Me and Dupree\" : 2.0\n",
    "    },\n",
    "    \"Jack Matthews\" : {\n",
    "        \"Lady in the Water\"  : 3.0,\n",
    "        \"Snakes on a Plane\"  : 4.0,\n",
    "        \"You, Me and Dupree\" : 3.5,\n",
    "        \"Superman Returns\"   : 5.0,\n",
    "        \"The Night Listener\" : 3.0\n",
    "    },\n",
    "    \"Toby\" : {\n",
    "        \"Snakes on a Plane\"  : 4.5,\n",
    "        \"You, Me and Dupree\" : 1.0,\n",
    "        \"Superman Returns\"   : 4.0\n",
    "    },\n",
    "    \"Lolo\" : {\n",
    "        \"Lili\" : 1.5,\n",
    "        \"Lala\" : 4.2\n",
    "    },\n",
    "    \"Coco\" : {\n",
    "        \"Cici\" : 5.0,\n",
    "        \"Caca\" : 2.4\n",
    "    }\n",
    "}"
   ]
  },
  {
   "cell_type": "markdown",
   "metadata": {},
   "source": [
    "### Encontrando usuarios similares\n",
    "\n",
    "Para determinar que tan similar son los gustos de dos personas se pueden utilizar varias métricas, las cuales llamamos *puntuaciones de similitud*\n",
    "\n",
    "En este ejercicio se implementarán dos: la *distancia Euclideana* y la *correlación de Pearson*"
   ]
  },
  {
   "cell_type": "markdown",
   "metadata": {},
   "source": [
    "#### Puntuación de la distancia Euclideana\n",
    "\n",
    "Considerando $n$ películas calificadas por una cantidad de críticos, podemos encontrar que tan similar son dos personas si tomamos un espacio $n$-dimensional en donde un punto es un crítico y sus coordenadas se determinan por la calificación que le asignó dicho crítico a las películas.\n",
    "\n",
    "La distancia Euclideana en este caso será calculada entre dos críticos considerando las películas que calificaron en común.\n",
    "\n",
    "$$f(c^{(a)}, c^{(b)}) = \\sqrt{(x^{(a)}_1 - x^{(b)}_1)^2 + \\dots (x^{(a)}_n - x^{(b)}_n)^2}$$\n",
    "\n",
    "donde $x^{(r)}_{i}$ es la calificación que le asignó el crítico $r$ a la película $i$"
   ]
  },
  {
   "cell_type": "code",
   "execution_count": 64,
   "metadata": {
    "collapsed": true
   },
   "outputs": [],
   "source": [
    "# Obtiene una lista con los ítems en común entre dos usuarios\n",
    "def shared_items(data, user_a, user_b):\n",
    "    return [item for item in data[user_a] if item in data[user_b]]"
   ]
  },
  {
   "cell_type": "code",
   "execution_count": 65,
   "metadata": {
    "collapsed": false
   },
   "outputs": [
    {
     "data": {
      "text/plain": [
       "['Lady in the Water',\n",
       " 'Snakes on a Plane',\n",
       " 'Just My Luck',\n",
       " 'Superman Returns',\n",
       " 'You, Me and Dupree',\n",
       " 'The Night Listener']"
      ]
     },
     "execution_count": 65,
     "metadata": {},
     "output_type": "execute_result"
    }
   ],
   "source": [
    "shared_items(critics, \"Gene Seymour\", \"Lisa Rose\")"
   ]
  },
  {
   "cell_type": "code",
   "execution_count": 68,
   "metadata": {
    "collapsed": false
   },
   "outputs": [],
   "source": [
    "# Calcula la distancia euclideana entre dos usuarios en la base de datos\n",
    "def euclidean_distance(data, user_a, user_b):\n",
    "    return sum([pow(data[user_a][item] - data[user_b][item], 2)\n",
    "               for item in shared_items(data, user_a, user_b)])"
   ]
  },
  {
   "cell_type": "code",
   "execution_count": 69,
   "metadata": {
    "collapsed": false
   },
   "outputs": [
    {
     "data": {
      "text/plain": [
       "5.75"
      ]
     },
     "execution_count": 69,
     "metadata": {},
     "output_type": "execute_result"
    }
   ],
   "source": [
    "euclidean_distance(critics, \"Gene Seymour\", \"Lisa Rose\")"
   ]
  },
  {
   "cell_type": "code",
   "execution_count": 72,
   "metadata": {
    "collapsed": true
   },
   "outputs": [],
   "source": [
    "# Calcula similaridad = 1/(1+distancia)\n",
    "def euclidean_similarity(data, user_a, user_b):\n",
    "    return 1/(1+euclidean_distance(data, user_a, user_b))"
   ]
  },
  {
   "cell_type": "code",
   "execution_count": 73,
   "metadata": {
    "collapsed": false
   },
   "outputs": [
    {
     "data": {
      "text/plain": [
       "0.14814814814814814"
      ]
     },
     "execution_count": 73,
     "metadata": {},
     "output_type": "execute_result"
    }
   ],
   "source": [
    "euclidean_similarity(critics, \"Gene Seymour\", \"Lisa Rose\")"
   ]
  },
  {
   "cell_type": "markdown",
   "metadata": {},
   "source": [
    "#### Puntuación de la correlación de Pearson"
   ]
  },
  {
   "cell_type": "markdown",
   "metadata": {},
   "source": [
    "### Recomendando ítems"
   ]
  },
  {
   "cell_type": "markdown",
   "metadata": {},
   "source": [
    "### Coincidiendo productos"
   ]
  },
  {
   "cell_type": "markdown",
   "metadata": {},
   "source": [
    "### Construyendo un recomendador de link de del.icio.us"
   ]
  },
  {
   "cell_type": "markdown",
   "metadata": {},
   "source": [
    "### Filtrado basado en ítems"
   ]
  },
  {
   "cell_type": "markdown",
   "metadata": {},
   "source": [
    "### Usando el conjunto de datos de MovieLens"
   ]
  }
 ],
 "metadata": {
  "kernelspec": {
   "display_name": "Python 2",
   "language": "python",
   "name": "python2"
  },
  "language_info": {
   "codemirror_mode": {
    "name": "ipython",
    "version": 2
   },
   "file_extension": ".py",
   "mimetype": "text/x-python",
   "name": "python",
   "nbconvert_exporter": "python",
   "pygments_lexer": "ipython2",
   "version": "2.7.10"
  }
 },
 "nbformat": 4,
 "nbformat_minor": 0
}
